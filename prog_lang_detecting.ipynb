{
 "metadata": {
  "language_info": {
   "codemirror_mode": {
    "name": "ipython",
    "version": 3
   },
   "file_extension": ".py",
   "mimetype": "text/x-python",
   "name": "python",
   "nbconvert_exporter": "python",
   "pygments_lexer": "ipython3",
   "version": 3
  },
  "orig_nbformat": 2,
  "kernelspec": {
   "name": "python_defaultSpec_1597181775831",
   "display_name": "Python 3.8.5 64-bit ('ai': venv)"
  }
 },
 "nbformat": 4,
 "nbformat_minor": 2,
 "cells": [
  {
   "cell_type": "code",
   "execution_count": 25,
   "metadata": {},
   "outputs": [
    {
     "output_type": "execute_result",
     "data": {
      "text/plain": "' This module uses the spaCy library to detect what type of programming language\\nis being discussed using the titles of threads on stackoverflow.\\n\\ndataset: https://www.kaggle.com/stackoverflow/stacksample/data\\n'"
     },
     "metadata": {},
     "execution_count": 25
    }
   ],
   "source": [
    "\"\"\" This module uses the spaCy library to detect what type of programming language\n",
    "is being discussed using the titles of threads on stackoverflow.\n",
    "\n",
    "dataset: https://www.kaggle.com/stackoverflow/stacksample/data\n",
    "\"\"\""
   ]
  },
  {
   "cell_type": "code",
   "execution_count": 3,
   "metadata": {},
   "outputs": [],
   "source": [
    "import os\n",
    "import pandas as pd\n",
    "import spacy"
   ]
  },
  {
   "cell_type": "code",
   "execution_count": 6,
   "metadata": {},
   "outputs": [],
   "source": [
    "# spacy.require_gpu() ... pip install spacy[cuda]\n",
    "nlp = spacy.load('en_core_web_sm')"
   ]
  },
  {
   "cell_type": "code",
   "execution_count": 9,
   "metadata": {},
   "outputs": [],
   "source": [
    "df = pd.read_csv(\n",
    "    f'prog_lang_detecting_data/Questions.csv',\n",
    "    nrows=1_000_000, usecols=['Title', 'Id'],\n",
    "    encoding='ISO-8859-1'\n",
    ")\n",
    "titles = [title for title in df.loc[lambda d: d['Title'].str.lower().str.contains('go')]['Title']]"
   ]
  },
  {
   "cell_type": "code",
   "execution_count": 10,
   "metadata": {},
   "outputs": [],
   "source": [
    "def has_golang(doc):\n",
    "    for t in doc:\n",
    "        if t.lower_ in ['go', 'golang']:\n",
    "            if t.pos_ != 'VERB':\n",
    "                if t.dep_ == 'pobj':\n",
    "                    return True\n",
    "    return False"
   ]
  },
  {
   "cell_type": "code",
   "execution_count": 13,
   "metadata": {
    "tags": []
   },
   "outputs": [
    {
     "output_type": "execute_result",
     "data": {
      "text/plain": "[Embedding instead of inheritance in Go,\n Shared library in Go?,\n multi package makefile example for go,\n What's the point of having pointers in Go?,\n Simulate a tcp connection in Go]"
     },
     "metadata": {},
     "execution_count": 13
    }
   ],
   "source": [
    "g = (doc for doc in nlp.pipe(titles) if has_golang(doc))\n",
    "x = [next(g) for i in range(5)]\n",
    "x"
   ]
  },
  {
   "cell_type": "code",
   "execution_count": 24,
   "metadata": {},
   "outputs": [
    {
     "output_type": "execute_result",
     "data": {
      "text/plain": "(1167, 762, 1345)"
     },
     "metadata": {},
     "execution_count": 24
    }
   ],
   "source": [
    "df_tags = pd.read_csv('prog_lang_detecting_data/Tags.csv')\n",
    "go_ids = df_tags.loc[lambda d: d['Tag'] == 'go']['Id']\n",
    "\n",
    "def has_go_token(doc):\n",
    "    for t in doc:\n",
    "        if t.lower_ in ['go', 'golang']:\n",
    "            return True\n",
    "    return False\n",
    "\n",
    "all_go_sentences = df.loc[lambda d: d['Id'].isin(go_ids)]['Title'].tolist()\n",
    "detectable = [d.text for d in nlp.pipe(all_go_sentences) if has_go_token(d)]\n",
    "\n",
    "non_detectable = (\n",
    "    df.loc[lambda d: ~d['Id'].isin(go_ids)]\n",
    "    .loc[lambda d: d['Title'].str.lower().str.contains('go')]['Title'].tolist()\n",
    ")\n",
    "\n",
    "non_detectable = [d.text for d in nlp.pipe(non_detectable) if has_go_token(d)]\n",
    "\n",
    "len(all_go_sentences), len(detectable), len(non_detectable)"
   ]
  },
  {
   "cell_type": "code",
   "execution_count": null,
   "metadata": {},
   "outputs": [],
   "source": []
  }
 ]
}